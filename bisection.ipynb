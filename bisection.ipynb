{
  "nbformat": 4,
  "nbformat_minor": 0,
  "metadata": {
    "colab": {
      "provenance": [],
      "collapsed_sections": [],
      "authorship_tag": "ABX9TyNuBt2T1LEBZFS6cP65BZrg",
      "include_colab_link": true
    },
    "kernelspec": {
      "name": "python3",
      "display_name": "Python 3"
    },
    "language_info": {
      "name": "python"
    }
  },
  "cells": [
    {
      "cell_type": "markdown",
      "metadata": {
        "id": "view-in-github",
        "colab_type": "text"
      },
      "source": [
        "<a href=\"https://colab.research.google.com/github/akarabubakr/Numberical/blob/main/bisection.ipynb\" target=\"_parent\"><img src=\"https://colab.research.google.com/assets/colab-badge.svg\" alt=\"Open In Colab\"/></a>"
      ]
    },
    {
      "cell_type": "code",
      "execution_count": null,
      "metadata": {
        "colab": {
          "base_uri": "https://localhost:8080/"
        },
        "id": "Fcn-RL_KwtYL",
        "outputId": "d8468420-5512-45fd-8770-877dc0159425"
      },
      "outputs": [
        {
          "output_type": "stream",
          "name": "stdout",
          "text": [
            "Solution Found : 1.7320508075688772\n"
          ]
        }
      ],
      "source": [
        "def bisection(f , a , b ):\n",
        "    fa = f(a)\n",
        "    fb = f(b)\n",
        "\n",
        "    if fa * fb > 0:\n",
        "        print(\"f(a) and f(b) must be different signs :(\")\n",
        "        return None\n",
        "\n",
        "    for _ in range(100):  # 100 iteration\n",
        "        c = (a + b) / 2\n",
        "        fc = f(c)\n",
        "\n",
        "        if fc == 0:\n",
        "            return c\n",
        "        if fa * fc > 0:\n",
        "            a = c\n",
        "            fa = fc\n",
        "        if fb * fc > 0:\n",
        "            b = c\n",
        "            fb = fc\n",
        "\n",
        "    return c\n",
        "\n",
        "\n",
        "func = lambda x: x ** 2 - 3 # x^2 - 3\n",
        "\n",
        "a = 1\n",
        "b = 2\n",
        "\n",
        "x = bisection(func, a, b)\n",
        "print(f\"Solution Found : {x}\")\n"
      ]
    }
  ]
}